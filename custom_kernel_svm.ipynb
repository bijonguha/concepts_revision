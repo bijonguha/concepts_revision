{
  "nbformat": 4,
  "nbformat_minor": 0,
  "metadata": {
    "colab": {
      "provenance": []
    },
    "kernelspec": {
      "name": "python3",
      "display_name": "Python 3"
    },
    "language_info": {
      "name": "python"
    }
  },
  "cells": [
    {
      "cell_type": "code",
      "execution_count": 2,
      "metadata": {
        "id": "aPiq52tOfFbf"
      },
      "outputs": [],
      "source": [
        "import numpy as np\n",
        "from sklearn import datasets\n",
        "from sklearn.model_selection import train_test_split\n",
        "from sklearn.svm import SVC\n",
        "from sklearn.metrics import accuracy_score"
      ]
    },
    {
      "cell_type": "code",
      "source": [
        "iris = datasets.load_iris()\n",
        "X, y = iris.data, iris.target"
      ],
      "metadata": {
        "id": "8g8zh4damiut"
      },
      "execution_count": 3,
      "outputs": []
    },
    {
      "cell_type": "code",
      "source": [
        "def custom_kernel(X, Y, alpha=1, beta=1, gamma=0.5, d=2):\n",
        "\n",
        "    poly_kernel = np.dot(X, Y.T) ** d\n",
        "    rbf_kernel = np.exp(-gamma * np.linalg.norm(X[:, np.newaxis] - Y, axis=2) ** 2)\n",
        "\n",
        "    return alpha * poly_kernel + beta * rbf_kernel"
      ],
      "metadata": {
        "id": "p0cF3BV7msdM"
      },
      "execution_count": 4,
      "outputs": []
    },
    {
      "cell_type": "code",
      "source": [
        "X_train, X_test, y_train, y_test = train_test_split(X, y, test_size=0.3, random_state=42)\n",
        "\n",
        "svm_classifier = SVC(kernel=lambda X, Y: custom_kernel(X, Y, alpha=0.5, beta=0.5, gamma=0.1, d=3))\n",
        "\n",
        "svm_classifier.fit(X_train, y_train)\n",
        "\n",
        "y_pred = svm_classifier.predict(X_test)\n",
        "\n",
        "accuracy = accuracy_score(y_test, y_pred)\n",
        "accuracy"
      ],
      "metadata": {
        "colab": {
          "base_uri": "https://localhost:8080/"
        },
        "id": "_zC7j-HufIO1",
        "outputId": "e2678645-2189-4e38-b35a-b820ca71005b"
      },
      "execution_count": 5,
      "outputs": [
        {
          "output_type": "execute_result",
          "data": {
            "text/plain": [
              "1.0"
            ]
          },
          "metadata": {},
          "execution_count": 5
        }
      ]
    },
    {
      "cell_type": "code",
      "source": [],
      "metadata": {
        "id": "sgAO2DDesJtO"
      },
      "execution_count": null,
      "outputs": []
    }
  ]
}